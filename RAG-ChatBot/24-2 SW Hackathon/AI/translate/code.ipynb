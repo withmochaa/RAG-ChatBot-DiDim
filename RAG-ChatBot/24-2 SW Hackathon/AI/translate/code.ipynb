{
 "cells": [
  {
   "cell_type": "code",
   "execution_count": 10,
   "metadata": {},
   "outputs": [
    {
     "name": "stdout",
     "output_type": "stream",
     "text": [
      "안녕 내 이름은\n"
     ]
    }
   ],
   "source": [
    "import requests\n",
    "import json\n",
    "\n",
    "# translate 함수 선언\n",
    "def translate(text, source='en', target='ko'):\n",
    "    CLIENT_ID = '3pi18dl5rd'  # Naver Cloud Platform에서 발급받은 클라이언트 ID\n",
    "    CLIENT_SECRET = 'tY6xJKIMBef2xCnZr1D7tJDZKK7XF7FrjhuhOsbU'  # Naver Cloud Platform에서 발급받은 클라이언트 시크릿\n",
    "    url = \"https://naveropenapi.apigw.ntruss.com/nmt/v1/translation\"  # NMT API의 엔드포인트\n",
    "    headers = {\n",
    "        'Content-Type': 'application/json',\n",
    "        'X-NCP-APIGW-API-KEY-ID': CLIENT_ID,  # Naver Cloud Platform의 API 키 ID\n",
    "        'X-NCP-APIGW-API-KEY': CLIENT_SECRET  # Naver Cloud Platform의 API 키 시크릿\n",
    "    }\n",
    "    data = {\n",
    "        'source': source,\n",
    "        'target': target,\n",
    "        'text': text\n",
    "    }\n",
    "\n",
    "    # JSON 형식으로 데이터 전송\n",
    "    response = requests.post(url, headers=headers, data=json.dumps(data))\n",
    "\n",
    "    # 응답 상태 코드 확인\n",
    "    if response.status_code == 200:\n",
    "        return response.json()['message']['result']['translatedText']\n",
    "    else:\n",
    "        # 오류 발생 시 응답 내용 출력\n",
    "        return f\"번역 오류: {response.status_code} - {response.text}\"\n",
    "\n",
    "# 번역할 문장 입력 후 함수에 전달\n",
    "text = '안녕 내 이름은'\n",
    "en_text = translate(text)\n",
    "print(en_text)\n",
    "\n"
   ]
  },
  {
   "cell_type": "code",
   "execution_count": null,
   "metadata": {},
   "outputs": [],
   "source": []
  }
 ],
 "metadata": {
  "kernelspec": {
   "display_name": "conda_cpu",
   "language": "python",
   "name": "python3"
  },
  "language_info": {
   "codemirror_mode": {
    "name": "ipython",
    "version": 3
   },
   "file_extension": ".py",
   "mimetype": "text/x-python",
   "name": "python",
   "nbconvert_exporter": "python",
   "pygments_lexer": "ipython3",
   "version": "3.12.3"
  }
 },
 "nbformat": 4,
 "nbformat_minor": 2
}
