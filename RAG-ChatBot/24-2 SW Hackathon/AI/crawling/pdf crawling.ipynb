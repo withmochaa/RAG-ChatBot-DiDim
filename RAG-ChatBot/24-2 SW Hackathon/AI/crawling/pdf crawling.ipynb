{
 "cells": [
  {
   "cell_type": "code",
   "execution_count": null,
   "metadata": {},
   "outputs": [],
   "source": [
    "import pdfplumber\n",
    "import pandas as pd\n",
    "\n",
    "# PDF 파일 경로\n",
    "pdf_file_path = 'your_file.pdf'  # 여기에 PDF 파일 경로를 입력하세요.\n",
    "\n",
    "# 텍스트를 저장할 리스트\n",
    "text_data = []\n",
    "\n",
    "# PDF 파일 열기\n",
    "with pdfplumber.open(pdf_file_path) as pdf:\n",
    "    for page in pdf.pages:\n",
    "        # 각 페이지에서 텍스트 추출\n",
    "        text = page.extract_text()\n",
    "        if text:  # 텍스트가 있는 경우\n",
    "            text_data.append(text)\n",
    "\n",
    "# 영어와 한글 텍스트만 필터링\n",
    "filtered_text = []\n",
    "for text in text_data:\n",
    "    # 각 페이지의 텍스트에서 영어와 한글만 추출\n",
    "    lines = text.split('\\n')\n",
    "    for line in lines:\n",
    "        # 영어와 한글이 포함된 경우만 추가\n",
    "        if any(char.isalpha() for char in line):  # 영어 또는 한글이 포함된 경우\n",
    "            filtered_text.append(line)\n",
    "\n",
    "# 데이터프레임으로 변환\n",
    "df = pd.DataFrame(filtered_text, columns=['Text'])\n",
    "\n",
    "# CSV 파일로 저장\n",
    "df.to_csv('extracted_text.csv', index=False, encoding='utf-8')\n",
    "print(\"CSV 파일로 저장 완료: extracted_text.csv\")\n"
   ]
  }
 ],
 "metadata": {
  "kernelspec": {
   "display_name": "conda_cpu",
   "language": "python",
   "name": "python3"
  },
  "language_info": {
   "name": "python",
   "version": "3.12.3"
  }
 },
 "nbformat": 4,
 "nbformat_minor": 2
}
