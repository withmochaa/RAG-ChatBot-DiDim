{
 "cells": [
  {
   "cell_type": "code",
   "execution_count": 2,
   "metadata": {},
   "outputs": [
    {
     "name": "stdout",
     "output_type": "stream",
     "text": [
      "추출된 텍스트:\n",
      "1:43 aul) > CB\n",
      "202414 2 학 기\n",
      "시간표 @\n",
      "\n",
      "a 화 내 = 2\n",
      "8\n",
      "\n",
      "-14000: 정 보 보 호 와 보 안 의 기초\n",
      "\n",
      "-14000: 멀 티 미 디어\n",
      "\n",
      "학 점 계산기\n",
      "\n",
      "평 균 학점 4.5/4.5 취득 학점 33/150\n",
      "\n",
      "Q 이 름 으로 친 구 를 검 색 하세요\n",
      "\n",
      "홈 시간표 게시판 채팅\n",
      "\n",
      "\n"
     ]
    }
   ],
   "source": [
    "import pytesseract\n",
    "from PIL import Image\n",
    "\n",
    "# Tesseract의 경로 설정 (설치한 경로로 변경하세요)\n",
    "pytesseract.pytesseract.tesseract_cmd = '/opt/homebrew/bin/tesseract'  # Homebrew로 설치한 경우\n",
    "# 또는\n",
    "# pytesseract.pytesseract.tesseract_cmd = '/opt/homebrew/bin/tesseract'  # Apple Silicon Mac의 경우\n",
    "\n",
    "# 이미지 파일 경로\n",
    "image_file_path = '/Users/withmocha/Desktop/KakaoTalk_Photo_2024-12-26-13-49-17.jpeg'  # 여기에 이미지 파일 경로를 입력하세요.\n",
    "\n",
    "# 이미지 열기\n",
    "image = Image.open(image_file_path)\n",
    "\n",
    "# 이미지에서 텍스트 추출\n",
    "extracted_text = pytesseract.image_to_string(image, lang='eng+kor')  # 영어와 한국어 텍스트 추출\n",
    "\n",
    "# 결과 출력\n",
    "print(\"추출된 텍스트:\")\n",
    "print(extracted_text)\n"
   ]
  },
  {
   "cell_type": "code",
   "execution_count": null,
   "metadata": {},
   "outputs": [],
   "source": []
  }
 ],
 "metadata": {
  "kernelspec": {
   "display_name": "conda_cpu",
   "language": "python",
   "name": "python3"
  },
  "language_info": {
   "codemirror_mode": {
    "name": "ipython",
    "version": 3
   },
   "file_extension": ".py",
   "mimetype": "text/x-python",
   "name": "python",
   "nbconvert_exporter": "python",
   "pygments_lexer": "ipython3",
   "version": "3.12.3"
  }
 },
 "nbformat": 4,
 "nbformat_minor": 2
}
