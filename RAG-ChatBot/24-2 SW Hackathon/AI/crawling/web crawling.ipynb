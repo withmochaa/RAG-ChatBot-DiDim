{
 "cells": [
  {
   "cell_type": "code",
   "execution_count": 1,
   "metadata": {},
   "outputs": [
    {
     "name": "stdout",
     "output_type": "stream",
     "text": [
      "JSONL 파일로 저장 완료: crawled_data.jsonl\n"
     ]
    }
   ],
   "source": [
    "import requests\n",
    "from bs4 import BeautifulSoup\n",
    "import pandas as pd\n",
    "import json\n",
    "\n",
    "# 크롤링할 웹사이트 URL\n",
    "url = 'https://en.wikipedia.org/wiki/France'  # 원하는 웹사이트 URL로 변경하세요.\n",
    "\n",
    "# 웹사이트 요청\n",
    "response = requests.get(url)\n",
    "\n",
    "# 요청이 성공했는지 확인\n",
    "if response.status_code == 200:\n",
    "    # HTML 파싱\n",
    "    soup = BeautifulSoup(response.text, 'html.parser')\n",
    "    \n",
    "    # 데이터 수집을 위한 리스트 초기화\n",
    "    prompts = []\n",
    "    completions = []\n",
    "\n",
    "\n",
    "    # 웹 페이지에서 필요한 데이터 크롤링\n",
    "    # 예를 들어, 특정 헤딩 아래의 텍스트를 수집할 수 있습니다.\n",
    "    for heading in soup.find_all('h2'):  # 모든 h2 태그 찾기\n",
    "        # 헤딩 텍스트를 프롬프트로 사용\n",
    "        heading_text = heading.get_text(strip=True)\n",
    "        prompts.append(heading_text)\n",
    "        \n",
    "        # 해당 헤딩 아래의 텍스트를 수집\n",
    "        next_node = heading.find_next_sibling()\n",
    "        completion_text = \"\"\n",
    "        while next_node and next_node.name != 'h2':  # 다음 h2 태그가 나올 때까지\n",
    "            if next_node.name == 'p':  # p 태그에서 텍스트 수집\n",
    "                completion_text += next_node.get_text(strip=True) + \"\\n\"\n",
    "            next_node = next_node.find_next_sibling()\n",
    "        \n",
    "        completions.append(completion_text.strip())\n",
    "\n",
    "    # JSONL 형식으로 가공\n",
    "    data = []\n",
    "    for prompt, completion in zip(prompts, completions):\n",
    "        data.append({\n",
    "            \"prompt\": f\"{prompt}\\n답변:\",\n",
    "            \"completion\": f\" {completion.strip()}\"\n",
    "        })\n",
    "\n",
    "    # JSONL 파일로 저장\n",
    "    with open('crawled_data.jsonl', 'w', encoding='utf-8') as f:\n",
    "        for entry in data:\n",
    "            f.write(json.dumps(entry, ensure_ascii=False) + '\\n')\n",
    "\n",
    "    print(\"JSONL 파일로 저장 완료: crawled_data.jsonl\")\n",
    "else:\n",
    "    print(f\"웹사이트 요청 실패: {response.status_code}\")\n"
   ]
  },
  {
   "cell_type": "code",
   "execution_count": null,
   "metadata": {},
   "outputs": [],
   "source": []
  }
 ],
 "metadata": {
  "kernelspec": {
   "display_name": "conda_cpu",
   "language": "python",
   "name": "python3"
  },
  "language_info": {
   "codemirror_mode": {
    "name": "ipython",
    "version": 3
   },
   "file_extension": ".py",
   "mimetype": "text/x-python",
   "name": "python",
   "nbconvert_exporter": "python",
   "pygments_lexer": "ipython3",
   "version": "3.12.3"
  }
 },
 "nbformat": 4,
 "nbformat_minor": 2
}
