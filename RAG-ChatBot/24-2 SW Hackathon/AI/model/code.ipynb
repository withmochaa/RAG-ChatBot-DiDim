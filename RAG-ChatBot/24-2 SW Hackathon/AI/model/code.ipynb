{
 "cells": [
  {
   "cell_type": "code",
   "execution_count": null,
   "metadata": {},
   "outputs": [],
   "source": [
    "!pip install transformers datasets faiss-cpu pandas torch\n",
    "\n",
    "import pandas as pd\n",
    "import torch\n",
    "from transformers import RagTokenizer, RagRetriever, RagSequenceForGeneration\n",
    "from transformers import MarianMTModel, MarianTokenizer\n",
    "\n",
    "\n",
    "# CSV 파일에는 'question'과 'answer' 열이 있어야 합니다.\n",
    "data = pd.read_csv('data.csv')\n",
    "\n",
    "# 번역 모델 초기화 (영어 -> 한국어)\n",
    "model_name = 'Helsinki-NLP/opus-mt-en-ko'\n",
    "translator = MarianMTModel.from_pretrained(model_name)\n",
    "tokenizer_translator = MarianTokenizer.from_pretrained(model_name)\n",
    "\n",
    "# RAG 모델과 토크나이저 초기화\n",
    "tokenizer = RagTokenizer.from_pretrained(\"facebook/rag-sequence-nq\")\n",
    "retriever = RagRetriever.from_pretrained(\"facebook/rag-sequence-nq\")\n",
    "model = RagSequenceForGeneration.from_pretrained(\"facebook/rag-sequence-nq\")\n",
    "\n",
    "# 질문에 대한 답변을 생성하는 함수\n",
    "def answer_question(question):\n",
    "    # 질문을 한국어로 번역\n",
    "    translated = translate_to_korean(question)\n",
    "\n",
    "    # RAG 모델을 통해 답변 생성\n",
    "    input_ids = tokenizer(translated, return_tensors=\"pt\").input_ids\n",
    "    retrieved_docs = retriever(input_ids=input_ids, return_tensors=\"pt\")\n",
    "\n",
    "    with torch.no_grad():\n",
    "        outputs = model.generate(\n",
    "            input_ids=input_ids, \n",
    "            context_input_ids=retrieved_docs['context_input_ids'], \n",
    "            context_attention_mask=retrieved_docs['context_attention_mask']\n",
    "        )\n",
    "\n",
    "    answer = tokenizer.batch_decode(outputs, skip_special_tokens=True)\n",
    "    return answer[0]\n",
    "\n",
    "# 영어 질문을 한국어로 번역하는 함수\n",
    "def translate_to_korean(text):\n",
    "    inputs = tokenizer_translator(text, return_tensors='pt', padding=True, truncation=True)\n",
    "    translated = model.generate(**inputs)\n",
    "    return tokenizer_translator.decode(translated[0], skip_special_tokens=True)\n",
    "\n",
    "# 챗봇 인터페이스\n",
    "def chat_with_bot():\n",
    "    print(\"챗봇과 대화해 보세요! '종료'를 입력하면 대화가 종료됩니다.\")\n",
    "    while True:\n",
    "        user_input = input(\"You: \")\n",
    "        if user_input.lower() == '종료':\n",
    "            print(\"챗봇: 대화를 종료합니다.\")\n",
    "            break\n",
    "        \n",
    "        answer = answer_question(user_input)\n",
    "        print(f\"챗봇: {answer}\\n\")\n",
    "\n",
    "# 챗봇 실행\n",
    "chat_with_bot()\n"
   ]
  },
  {
   "cell_type": "code",
   "execution_count": null,
   "metadata": {},
   "outputs": [],
   "source": []
  },
  {
   "cell_type": "code",
   "execution_count": null,
   "metadata": {},
   "outputs": [],
   "source": []
  },
  {
   "cell_type": "code",
   "execution_count": null,
   "metadata": {},
   "outputs": [],
   "source": []
  },
  {
   "cell_type": "code",
   "execution_count": null,
   "metadata": {},
   "outputs": [],
   "source": []
  }
 ],
 "metadata": {
  "kernelspec": {
   "display_name": "conda_cpu",
   "language": "python",
   "name": "python3"
  },
  "language_info": {
   "name": "python",
   "version": "3.12.3"
  }
 },
 "nbformat": 4,
 "nbformat_minor": 2
}
