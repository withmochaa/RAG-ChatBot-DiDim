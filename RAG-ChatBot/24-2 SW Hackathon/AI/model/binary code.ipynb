{
 "cells": [
  {
   "cell_type": "code",
   "execution_count": 1,
   "metadata": {},
   "outputs": [
    {
     "name": "stdout",
     "output_type": "stream",
     "text": [
      "결과: 0\n"
     ]
    }
   ],
   "source": [
    "def binary_classification(input_word, dictionary):\n",
    "    words = input_word.split() \n",
    "    \n",
    "    for word in words:\n",
    "        if word in dictionary:\n",
    "            return 1  \n",
    "    return 0  \n",
    "\n",
    "dictionary = {\n",
    "    \"교내\", \"캠퍼스\", \"학교 내\", \"대학교\", \"학내\",\n",
    "    \"카페\", \"커피숍\", \"다방\", \"차집\", \"음료점\",\n",
    "    \"편의점\", \"마트\", \"소매점\", \"상점\", \"24시\",\n",
    "    \"약국\", \"약방\", \"약제국\", \"의약품점\",\n",
    "    \"프린터\", \"인쇄기\", \"복사기\", \"복사기계\",\n",
    "    \"건물\", \"빌딩\", \"시설\", \"구조물\", \"사무실\",\n",
    "    \"편람\", \"안내서\", \"리포트\", \"매뉴얼\",\n",
    "    \"수강 편람\", \"강의 안내서\", \"수업 안내\", \"강의 목록\"\n",
    "}\n",
    "\n",
    "text='약을 파는 약국이 어디야'\n",
    "if __name__ == \"__main__\":\n",
    "    input_word = text\n",
    "\n",
    "    result = binary_classification(input_word, dictionary)\n",
    "    print(\"결과:\", result)\n",
    "\n"
   ]
  },
  {
   "cell_type": "code",
   "execution_count": null,
   "metadata": {},
   "outputs": [],
   "source": []
  },
  {
   "cell_type": "code",
   "execution_count": null,
   "metadata": {},
   "outputs": [],
   "source": []
  },
  {
   "cell_type": "code",
   "execution_count": null,
   "metadata": {},
   "outputs": [],
   "source": []
  },
  {
   "cell_type": "code",
   "execution_count": null,
   "metadata": {},
   "outputs": [],
   "source": []
  }
 ],
 "metadata": {
  "kernelspec": {
   "display_name": "conda_cpu",
   "language": "python",
   "name": "python3"
  },
  "language_info": {
   "codemirror_mode": {
    "name": "ipython",
    "version": 3
   },
   "file_extension": ".py",
   "mimetype": "text/x-python",
   "name": "python",
   "nbconvert_exporter": "python",
   "pygments_lexer": "ipython3",
   "version": "3.12.3"
  }
 },
 "nbformat": 4,
 "nbformat_minor": 2
}
